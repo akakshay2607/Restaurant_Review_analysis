{
 "cells": [
  {
   "cell_type": "code",
   "execution_count": 1,
   "id": "721f0a70",
   "metadata": {},
   "outputs": [],
   "source": [
    "import pandas as pd\n",
    "A = pd.read_csv(\"C:/Users/akaks/Downloads/Restaurant_Reviews.tsv\",sep=\"\\t\")"
   ]
  },
  {
   "cell_type": "code",
   "execution_count": 2,
   "id": "e257054a",
   "metadata": {},
   "outputs": [
    {
     "data": {
      "text/html": [
       "<div>\n",
       "<style scoped>\n",
       "    .dataframe tbody tr th:only-of-type {\n",
       "        vertical-align: middle;\n",
       "    }\n",
       "\n",
       "    .dataframe tbody tr th {\n",
       "        vertical-align: top;\n",
       "    }\n",
       "\n",
       "    .dataframe thead th {\n",
       "        text-align: right;\n",
       "    }\n",
       "</style>\n",
       "<table border=\"1\" class=\"dataframe\">\n",
       "  <thead>\n",
       "    <tr style=\"text-align: right;\">\n",
       "      <th></th>\n",
       "      <th>Review</th>\n",
       "      <th>Liked</th>\n",
       "    </tr>\n",
       "  </thead>\n",
       "  <tbody>\n",
       "    <tr>\n",
       "      <th>0</th>\n",
       "      <td>Wow... Loved this place.</td>\n",
       "      <td>1</td>\n",
       "    </tr>\n",
       "    <tr>\n",
       "      <th>1</th>\n",
       "      <td>Crust is not good.</td>\n",
       "      <td>0</td>\n",
       "    </tr>\n",
       "    <tr>\n",
       "      <th>2</th>\n",
       "      <td>Not tasty and the texture was just nasty.</td>\n",
       "      <td>0</td>\n",
       "    </tr>\n",
       "    <tr>\n",
       "      <th>3</th>\n",
       "      <td>Stopped by during the late May bank holiday of...</td>\n",
       "      <td>1</td>\n",
       "    </tr>\n",
       "    <tr>\n",
       "      <th>4</th>\n",
       "      <td>The selection on the menu was great and so wer...</td>\n",
       "      <td>1</td>\n",
       "    </tr>\n",
       "  </tbody>\n",
       "</table>\n",
       "</div>"
      ],
      "text/plain": [
       "                                              Review  Liked\n",
       "0                           Wow... Loved this place.      1\n",
       "1                                 Crust is not good.      0\n",
       "2          Not tasty and the texture was just nasty.      0\n",
       "3  Stopped by during the late May bank holiday of...      1\n",
       "4  The selection on the menu was great and so wer...      1"
      ]
     },
     "execution_count": 2,
     "metadata": {},
     "output_type": "execute_result"
    }
   ],
   "source": [
    "A.head()"
   ]
  },
  {
   "cell_type": "markdown",
   "id": "2319e724",
   "metadata": {},
   "source": [
    "# Removing the special characters"
   ]
  },
  {
   "cell_type": "code",
   "execution_count": 3,
   "id": "d40c7a1f",
   "metadata": {},
   "outputs": [],
   "source": [
    "Q = []\n",
    "from re import sub\n",
    "for i in A.Review:\n",
    "    Q.append(sub(\"[^a-zA-Z0-9 ]\",\"\",i.upper()))"
   ]
  },
  {
   "cell_type": "code",
   "execution_count": 4,
   "id": "c2cda25a",
   "metadata": {},
   "outputs": [],
   "source": [
    "from sklearn.feature_extraction.text import CountVectorizer\n",
    "cv = CountVectorizer()"
   ]
  },
  {
   "cell_type": "code",
   "execution_count": 22,
   "id": "7093a594",
   "metadata": {},
   "outputs": [],
   "source": [
    "#Q"
   ]
  },
  {
   "cell_type": "code",
   "execution_count": 5,
   "id": "a0ad38b0",
   "metadata": {},
   "outputs": [],
   "source": [
    "word_vect = cv.fit_transform(Q).toarray()"
   ]
  },
  {
   "cell_type": "code",
   "execution_count": 6,
   "id": "a7fa6a03",
   "metadata": {
    "scrolled": true
   },
   "outputs": [
    {
     "data": {
      "text/plain": [
       "array([[0, 0, 0, ..., 0, 0, 0],\n",
       "       [0, 0, 0, ..., 0, 0, 0],\n",
       "       [0, 0, 0, ..., 0, 0, 0],\n",
       "       ...,\n",
       "       [0, 0, 0, ..., 0, 0, 0],\n",
       "       [0, 0, 0, ..., 0, 0, 0],\n",
       "       [0, 0, 0, ..., 0, 0, 0]], dtype=int64)"
      ]
     },
     "execution_count": 6,
     "metadata": {},
     "output_type": "execute_result"
    }
   ],
   "source": [
    "word_vect"
   ]
  },
  {
   "cell_type": "code",
   "execution_count": 7,
   "id": "9f1e1e33",
   "metadata": {},
   "outputs": [
    {
     "name": "stderr",
     "output_type": "stream",
     "text": [
      "C:\\Users\\akaks\\anaconda3\\envs\\Deep_Learning\\lib\\site-packages\\sklearn\\utils\\deprecation.py:87: FutureWarning: Function get_feature_names is deprecated; get_feature_names is deprecated in 1.0 and will be removed in 1.2. Please use get_feature_names_out instead.\n",
      "  warnings.warn(msg, category=FutureWarning)\n"
     ]
    }
   ],
   "source": [
    "words = cv.get_feature_names()"
   ]
  },
  {
   "cell_type": "code",
   "execution_count": 23,
   "id": "bc80f8ff",
   "metadata": {},
   "outputs": [],
   "source": [
    "#words"
   ]
  },
  {
   "cell_type": "markdown",
   "id": "10991ddd",
   "metadata": {},
   "source": [
    "# Spliting the data into training and testing set"
   ]
  },
  {
   "cell_type": "code",
   "execution_count": 9,
   "id": "b96cecc4",
   "metadata": {},
   "outputs": [],
   "source": [
    "X = word_vect\n",
    "Y = A.Liked"
   ]
  },
  {
   "cell_type": "code",
   "execution_count": 10,
   "id": "d884332d",
   "metadata": {},
   "outputs": [],
   "source": [
    "from sklearn.model_selection import train_test_split\n",
    "xtrain,xtest,ytrain,ytest = train_test_split(X,Y,test_size=0.2,random_state=21)"
   ]
  },
  {
   "cell_type": "code",
   "execution_count": 11,
   "id": "5dbde4a3",
   "metadata": {},
   "outputs": [
    {
     "data": {
      "text/plain": [
       "(1000, 2067)"
      ]
     },
     "execution_count": 11,
     "metadata": {},
     "output_type": "execute_result"
    }
   ],
   "source": [
    "X.shape"
   ]
  },
  {
   "cell_type": "markdown",
   "id": "26c5efad",
   "metadata": {},
   "source": [
    "# Creating a Neural Network"
   ]
  },
  {
   "cell_type": "code",
   "execution_count": 12,
   "id": "add0871e",
   "metadata": {},
   "outputs": [],
   "source": [
    "from keras.models import Sequential\n",
    "from keras.layers import Dense,Dropout\n",
    "nn = Sequential()\n",
    "nn.add(Dense(1000,input_dim=(2067)))\n",
    "nn.add(Dropout(0.6))\n",
    "nn.add(Dense(1000))\n",
    "nn.add(Dropout(0.6))\n",
    "nn.add(Dense(1,activation=\"sigmoid\"))"
   ]
  },
  {
   "cell_type": "code",
   "execution_count": 13,
   "id": "320d83e7",
   "metadata": {},
   "outputs": [
    {
     "name": "stdout",
     "output_type": "stream",
     "text": [
      "Epoch 1/10\n",
      "25/25 [==============================] - 2s 46ms/step - loss: 0.6035 - accuracy: 0.6687\n",
      "Epoch 2/10\n",
      "25/25 [==============================] - 1s 45ms/step - loss: 0.3106 - accuracy: 0.8788\n",
      "Epoch 3/10\n",
      "25/25 [==============================] - 1s 46ms/step - loss: 0.1853 - accuracy: 0.9388\n",
      "Epoch 4/10\n",
      "25/25 [==============================] - 1s 45ms/step - loss: 0.1304 - accuracy: 0.9513\n",
      "Epoch 5/10\n",
      "25/25 [==============================] - 1s 45ms/step - loss: 0.0670 - accuracy: 0.9725\n",
      "Epoch 6/10\n",
      "25/25 [==============================] - 1s 44ms/step - loss: 0.0649 - accuracy: 0.9775\n",
      "Epoch 7/10\n",
      "25/25 [==============================] - 1s 43ms/step - loss: 0.0287 - accuracy: 0.9900\n",
      "Epoch 8/10\n",
      "25/25 [==============================] - 1s 44ms/step - loss: 0.0200 - accuracy: 0.9912\n",
      "Epoch 9/10\n",
      "25/25 [==============================] - 1s 45ms/step - loss: 0.0136 - accuracy: 0.9950\n",
      "Epoch 10/10\n",
      "25/25 [==============================] - 1s 44ms/step - loss: 0.0087 - accuracy: 0.9962\n"
     ]
    },
    {
     "data": {
      "text/plain": [
       "<keras.callbacks.History at 0x12b27713ee0>"
      ]
     },
     "execution_count": 13,
     "metadata": {},
     "output_type": "execute_result"
    }
   ],
   "source": [
    "nn.compile(loss=\"binary_crossentropy\",metrics=\"accuracy\")\n",
    "nn.fit(xtrain,ytrain,epochs=10,)"
   ]
  },
  {
   "cell_type": "markdown",
   "id": "bdd0a49e",
   "metadata": {},
   "source": [
    "# Predicting on testing set"
   ]
  },
  {
   "cell_type": "code",
   "execution_count": 14,
   "id": "3c3ef8de",
   "metadata": {
    "scrolled": true
   },
   "outputs": [
    {
     "data": {
      "text/plain": [
       "array([[3.34823132e-03],\n",
       "       [7.27398146e-05],\n",
       "       [1.00000000e+00],\n",
       "       [9.99997020e-01],\n",
       "       [1.00000000e+00],\n",
       "       [9.97237444e-01],\n",
       "       [2.30259564e-24],\n",
       "       [3.51739783e-14],\n",
       "       [9.99920070e-01],\n",
       "       [9.98022079e-01],\n",
       "       [9.99995053e-01],\n",
       "       [9.98629928e-01],\n",
       "       [8.71268272e-01],\n",
       "       [9.99972939e-01],\n",
       "       [8.84085894e-04],\n",
       "       [1.00000000e+00],\n",
       "       [1.00000000e+00],\n",
       "       [9.99994993e-01],\n",
       "       [1.70573920e-11],\n",
       "       [4.80105758e-01],\n",
       "       [9.84315236e-14],\n",
       "       [1.52733922e-03],\n",
       "       [5.39729546e-11],\n",
       "       [9.99986291e-01],\n",
       "       [9.99998689e-01],\n",
       "       [1.03146999e-26],\n",
       "       [2.63716488e-21],\n",
       "       [6.83807731e-01],\n",
       "       [6.98056413e-09],\n",
       "       [2.28985719e-11],\n",
       "       [9.52516079e-01],\n",
       "       [4.27616664e-10],\n",
       "       [9.18863385e-09],\n",
       "       [9.99977469e-01],\n",
       "       [9.34978485e-01],\n",
       "       [9.99999762e-01],\n",
       "       [4.83125448e-04],\n",
       "       [3.66953135e-01],\n",
       "       [9.99998212e-01],\n",
       "       [9.98656631e-01],\n",
       "       [1.71254277e-02],\n",
       "       [9.99547124e-01],\n",
       "       [3.81635517e-01],\n",
       "       [9.99995351e-01],\n",
       "       [7.98879683e-01],\n",
       "       [1.17084980e-02],\n",
       "       [1.55878365e-02],\n",
       "       [1.00000000e+00],\n",
       "       [6.75041199e-01],\n",
       "       [3.00726100e-07],\n",
       "       [6.75041199e-01],\n",
       "       [9.80823100e-01],\n",
       "       [1.00000000e+00],\n",
       "       [9.94422078e-01],\n",
       "       [9.85616267e-01],\n",
       "       [1.70613887e-08],\n",
       "       [1.74582005e-04],\n",
       "       [9.92458344e-01],\n",
       "       [7.62640775e-06],\n",
       "       [2.31117010e-04],\n",
       "       [1.00000000e+00],\n",
       "       [9.99999762e-01],\n",
       "       [9.21589077e-01],\n",
       "       [9.99813378e-01],\n",
       "       [3.63140543e-07],\n",
       "       [9.99890327e-01],\n",
       "       [9.79707956e-01],\n",
       "       [9.25191045e-01],\n",
       "       [9.99993920e-01],\n",
       "       [1.00000000e+00],\n",
       "       [1.22931421e-09],\n",
       "       [2.56944478e-01],\n",
       "       [1.37338042e-03],\n",
       "       [2.22736180e-05],\n",
       "       [4.07874584e-04],\n",
       "       [2.93136000e-05],\n",
       "       [1.00000000e+00],\n",
       "       [3.08750987e-01],\n",
       "       [1.00000000e+00],\n",
       "       [5.37782907e-03],\n",
       "       [2.03862726e-07],\n",
       "       [8.96960497e-04],\n",
       "       [1.24483198e-01],\n",
       "       [1.00000000e+00],\n",
       "       [9.99998689e-01],\n",
       "       [4.70843588e-07],\n",
       "       [9.32913184e-01],\n",
       "       [2.19130218e-02],\n",
       "       [3.95357489e-08],\n",
       "       [2.63288752e-10],\n",
       "       [9.99753952e-01],\n",
       "       [9.81632233e-01],\n",
       "       [3.17700311e-09],\n",
       "       [8.05256069e-02],\n",
       "       [1.51161134e-01],\n",
       "       [9.77340579e-01],\n",
       "       [9.99063849e-01],\n",
       "       [1.46150589e-04],\n",
       "       [9.44349647e-01],\n",
       "       [1.72154605e-02],\n",
       "       [1.00000000e+00],\n",
       "       [2.28871359e-05],\n",
       "       [9.85580564e-01],\n",
       "       [9.85769629e-01],\n",
       "       [9.86449599e-01],\n",
       "       [1.63894892e-03],\n",
       "       [1.00000000e+00],\n",
       "       [2.65239814e-05],\n",
       "       [7.60245323e-03],\n",
       "       [9.79482335e-20],\n",
       "       [1.92073259e-14],\n",
       "       [1.00000000e+00],\n",
       "       [2.78850496e-02],\n",
       "       [2.09833980e-02],\n",
       "       [7.11498201e-01],\n",
       "       [9.99985754e-01],\n",
       "       [9.99972701e-01],\n",
       "       [2.78076748e-17],\n",
       "       [7.27398146e-05],\n",
       "       [9.31251645e-01],\n",
       "       [9.60846126e-01],\n",
       "       [5.60373068e-03],\n",
       "       [3.28451395e-04],\n",
       "       [1.69526174e-05],\n",
       "       [9.95483756e-01],\n",
       "       [2.22998437e-07],\n",
       "       [3.31313310e-09],\n",
       "       [5.58823347e-04],\n",
       "       [1.46622315e-05],\n",
       "       [1.01808965e-01],\n",
       "       [1.00000000e+00],\n",
       "       [9.99830365e-01],\n",
       "       [1.00000000e+00],\n",
       "       [9.18112338e-01],\n",
       "       [1.00000000e+00],\n",
       "       [9.55951393e-01],\n",
       "       [9.39698815e-02],\n",
       "       [9.99846339e-01],\n",
       "       [1.61170959e-04],\n",
       "       [9.86357987e-01],\n",
       "       [1.00000000e+00],\n",
       "       [1.35718883e-05],\n",
       "       [9.99996245e-01],\n",
       "       [9.99022365e-01],\n",
       "       [8.59168779e-07],\n",
       "       [9.94721174e-01],\n",
       "       [1.00000000e+00],\n",
       "       [9.52753067e-01],\n",
       "       [1.33496523e-03],\n",
       "       [8.86260867e-01],\n",
       "       [9.77816820e-01],\n",
       "       [9.99910414e-01],\n",
       "       [9.99999762e-01],\n",
       "       [1.35558993e-01],\n",
       "       [9.31232393e-01],\n",
       "       [4.26850395e-15],\n",
       "       [9.99863207e-01],\n",
       "       [1.00000000e+00],\n",
       "       [9.96046424e-01],\n",
       "       [1.21233224e-13],\n",
       "       [1.43781304e-03],\n",
       "       [7.85964727e-03],\n",
       "       [4.91909047e-09],\n",
       "       [9.60750520e-01],\n",
       "       [3.24618804e-10],\n",
       "       [7.38180628e-10],\n",
       "       [9.59343016e-01],\n",
       "       [5.04186451e-02],\n",
       "       [7.95283675e-01],\n",
       "       [9.99999821e-01],\n",
       "       [9.99721169e-01],\n",
       "       [6.23146889e-07],\n",
       "       [8.90325919e-06],\n",
       "       [2.60293484e-04],\n",
       "       [1.75014705e-08],\n",
       "       [9.98222589e-01],\n",
       "       [2.68567115e-01],\n",
       "       [9.99237478e-01],\n",
       "       [9.19739962e-01],\n",
       "       [9.99718189e-01],\n",
       "       [3.86461943e-05],\n",
       "       [1.12193316e-01],\n",
       "       [9.84428525e-01],\n",
       "       [1.00000000e+00],\n",
       "       [8.61236811e-01],\n",
       "       [9.99999166e-01],\n",
       "       [1.85603589e-01],\n",
       "       [1.21614983e-06],\n",
       "       [5.60693145e-02],\n",
       "       [8.78966091e-08],\n",
       "       [9.95548606e-01],\n",
       "       [9.99568999e-01],\n",
       "       [9.98849750e-01],\n",
       "       [2.01695412e-01],\n",
       "       [9.62322116e-01],\n",
       "       [2.08902121e-01],\n",
       "       [9.97483730e-04],\n",
       "       [1.34678245e-01],\n",
       "       [1.00000000e+00],\n",
       "       [9.99808908e-01]], dtype=float32)"
      ]
     },
     "execution_count": 14,
     "metadata": {},
     "output_type": "execute_result"
    }
   ],
   "source": [
    "nn.predict(xtest)"
   ]
  },
  {
   "cell_type": "code",
   "execution_count": 15,
   "id": "e6f6ba9e",
   "metadata": {},
   "outputs": [],
   "source": [
    "q=[]\n",
    "for i in nn.predict(xtest):\n",
    "    if (i[0]<0.5):\n",
    "        q.append(0)\n",
    "    else:\n",
    "        q.append(1)\n",
    "        \n",
    "    "
   ]
  },
  {
   "cell_type": "code",
   "execution_count": 16,
   "id": "f257125b",
   "metadata": {},
   "outputs": [
    {
     "data": {
      "text/plain": [
       "0.815"
      ]
     },
     "execution_count": 16,
     "metadata": {},
     "output_type": "execute_result"
    }
   ],
   "source": [
    "from sklearn.metrics import accuracy_score\n",
    "accuracy_score(ytest,q)"
   ]
  },
  {
   "cell_type": "markdown",
   "id": "78408eb2",
   "metadata": {},
   "source": [
    "# creating Function to classify the review"
   ]
  },
  {
   "cell_type": "code",
   "execution_count": 20,
   "id": "1d2b52b1",
   "metadata": {},
   "outputs": [],
   "source": [
    "def review_classification(str_):\n",
    "    z = []\n",
    "    z.append(sub(\"[^A-Za-z0-9 ]\",\"\",str_.upper()))\n",
    "    x = cv.transform(z).toarray()\n",
    "    pred = nn.predict(x)\n",
    "    for i in pred:\n",
    "        if i <0.5:\n",
    "            print(\"Did Not Liked\")\n",
    "        else:\n",
    "            print(\"Liked\")"
   ]
  },
  {
   "cell_type": "code",
   "execution_count": 21,
   "id": "930231c0",
   "metadata": {},
   "outputs": [
    {
     "name": "stdout",
     "output_type": "stream",
     "text": [
      "Liked\n"
     ]
    }
   ],
   "source": [
    "review_classification(\"awesome\")"
   ]
  },
  {
   "cell_type": "code",
   "execution_count": null,
   "id": "e73541e7",
   "metadata": {},
   "outputs": [],
   "source": []
  }
 ],
 "metadata": {
  "kernelspec": {
   "display_name": "Python 3",
   "language": "python",
   "name": "python3"
  },
  "language_info": {
   "codemirror_mode": {
    "name": "ipython",
    "version": 3
   },
   "file_extension": ".py",
   "mimetype": "text/x-python",
   "name": "python",
   "nbconvert_exporter": "python",
   "pygments_lexer": "ipython3",
   "version": "3.8.8"
  }
 },
 "nbformat": 4,
 "nbformat_minor": 5
}
